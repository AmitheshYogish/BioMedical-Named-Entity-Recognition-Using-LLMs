{
 "cells": [
  {
   "cell_type": "markdown",
   "metadata": {},
   "source": [
    "This is the last step of evaluation. Take generated reponse json and feed this but make sure to hcange the tags in this code based on the response file"
   ]
  },
  {
   "cell_type": "markdown",
   "metadata": {},
   "source": [
    "### Importing dependencies"
   ]
  },
  {
   "cell_type": "code",
   "execution_count": 47,
   "metadata": {},
   "outputs": [],
   "source": [
    "import seqeval, json\n",
    "import re \n",
    "import pandas"
   ]
  },
  {
   "cell_type": "code",
   "execution_count": 48,
   "metadata": {},
   "outputs": [
    {
     "data": {
      "text/plain": [
       "{'id': 0,\n",
       " 'input': 'Do NER on this sentence\\nThis stimulatory effect could also be elicited by c - Jun , which interacts with topo II , but not by c - Fos , which does not bind topo II in our in vitro assay\\nReply in key value pair as Tag and Entity.',\n",
       " 'expected': \"['E-GENE:Jun', 'B-GENE:topo', 'E-GENE:II', 'E-GENE:Fos', 'B-GENE:topo', 'E-GENE:II']\",\n",
       " 'response': \"['B-GENE:topo', 'I-GENE:II', 'E-GENE:alpha', 'B-GENE:c-Jun', 'E-GENE:Jun']\"}"
      ]
     },
     "execution_count": 48,
     "metadata": {},
     "output_type": "execute_result"
    }
   ],
   "source": [
    "with open(r\"G:\\GitClone\\BioNER_Project\\llama2-ner\\Evaluation\\Generated_response\\responses_bloom3b_gene_fast.json\", \"r\") as f:\n",
    "    raw_list=json.loads(f.read())\n",
    "raw_list[0]"
   ]
  },
  {
   "cell_type": "markdown",
   "metadata": {},
   "source": [
    "### Processing "
   ]
  },
  {
   "cell_type": "code",
   "execution_count": 49,
   "metadata": {},
   "outputs": [
    {
     "name": "stdout",
     "output_type": "stream",
     "text": [
      "y_true: ['O', 'O', 'O', 'O', 'O', 'O', 'O', 'O', 'O', 'B-B_GENE', 'I-I_GENE', 'I-I_GENE', 'O', 'O', 'O', 'O']\n",
      "y_pred: ['O', 'O', 'O', 'O', 'O', 'O', 'O', 'O', 'O', 'O', 'O', 'O', 'O', 'O', 'O', 'O']\n"
     ]
    }
   ],
   "source": [
    "def tokenize(sentence):\n",
    "    # Tokenization pattern similar to LLMs\n",
    "    pattern = r\"[\\w']+|[.,!?;]\"\n",
    "    tokens = re.findall(pattern, sentence)\n",
    "    return tokens\n",
    "\n",
    "def extract_tags(tag_string):\n",
    "    tags = []\n",
    "    # Remove '[' and ']' and split by ','\n",
    "    tag_string = tag_string.strip(\"[]\")\n",
    "    tag_string = tag_string.replace(\"'\", \"\")\n",
    "    tag_list = tag_string.split(\", \")\n",
    "    for tag in tag_list:\n",
    "        # Split each tag into its key and value parts\n",
    "        key, value = tag.split(\":\")\n",
    "        tags.append((key.strip(), value.strip()))\n",
    "    return tags\n",
    "\n",
    "def get_true_and_pred(data):\n",
    "    expected_tags = extract_tags(data['expected'])\n",
    "    response_tags = extract_tags(data['response'])\n",
    "\n",
    "    # Convert expected and response tags to y_true and y_pred respectively\n",
    "    y_true = ['O'] * len(tokenize(data['input']))\n",
    "    y_pred = ['O'] * len(tokenize(data['input']))\n",
    "\n",
    "    # Check if expected_tags is empty\n",
    "    if not expected_tags:\n",
    "        for tag_type, tag_value in response_tags:\n",
    "            # Find the indices where the tag value occurs in the input\n",
    "            indices = [i for i, token in enumerate(tokenize(data['input'])) if token == tag_value]\n",
    "            for index in indices:\n",
    "                if tag_type == 'B-GENE'.lower():\n",
    "                    y_pred[index] = 'B-B_GENE'\n",
    "                elif tag_type == 'I-GENE'.lower():\n",
    "                    y_pred[index] = 'I-I_GENE'\n",
    "                elif tag_type == 'E-GENE'.lower():\n",
    "                    y_pred[index] = 'E-E_GENE'\n",
    "                elif tag_type == 'S-GENE'.lower():\n",
    "                    y_pred[index] = 'S-S_GENE'\n",
    "        return y_true, y_pred\n",
    "    \n",
    "    # Check if response_tags is empty\n",
    "    if not response_tags:\n",
    "        for tag_type, tag_value in expected_tags:\n",
    "            # Find the indices where the tag value occurs in the input\n",
    "            indices = [i for i, token in enumerate(tokenize(data['input'])) if token == tag_value]\n",
    "            for index in indices:\n",
    "                if tag_type == 'B-GENE'.lower():\n",
    "                    y_true[index] = 'B-B_GENE'\n",
    "                elif tag_type == 'I-GENE'.lower():\n",
    "                    y_true[index] = 'I-I_GENE'\n",
    "                elif tag_type == 'E-GENE'.lower():\n",
    "                    y_true[index] = 'E-E_GENE'\n",
    "                elif tag_type == 'S-GENE'.lower():\n",
    "                    y_true[index] = 'S-S_GENE'\n",
    "        return y_true, y_pred\n",
    "\n",
    "    # Process expected_tags\n",
    "    for tag_type, tag_value in expected_tags:\n",
    "        # Find the indices where the tag value occurs in the input\n",
    "        indices = [i for i, token in enumerate(tokenize(data['input'])) if token == tag_value]\n",
    "        for index in indices:\n",
    "            if tag_type == 'B-GENE'.lower():\n",
    "                y_true[index] = 'B-B_GENE'\n",
    "            elif tag_type == 'I-GENE'.lower():\n",
    "                y_true[index] = 'I-I_GENE'\n",
    "            elif tag_type == 'E-GENE'.lower():\n",
    "                y_true[index] = 'E-E_GENE'\n",
    "            elif tag_type == 'S-GENE'.lower():\n",
    "                y_true[index] = 'S-S_GENE'\n",
    "\n",
    "    # Process response_tags\n",
    "    for tag_type, tag_value in response_tags:\n",
    "        # Find the indices where the tag value occurs in the input\n",
    "        indices = [i for i, token in enumerate(tokenize(data['input'])) if token == tag_value]\n",
    "        for index in indices:\n",
    "            if tag_type == 'B-GENE'.lower():\n",
    "                y_pred[index] = 'B-B_GENE'\n",
    "            elif tag_type == 'I-GENE'.lower():\n",
    "                y_pred[index] = 'I-I_GENE'\n",
    "            elif tag_type == 'E-GENE'.lower():\n",
    "                y_pred[index] = 'E-E_GENE'\n",
    "            elif tag_type == 'S-GENE'.lower():\n",
    "                y_pred[index] = 'S-S_GENE'\n",
    "\n",
    "    return y_true, y_pred\n",
    "\n",
    "data = {\n",
    "    'id': 0,\n",
    "    'input': \"Habitual use of acetaminophen as a risk factor for chronic renal failure : a comparison with phenacetin\".lower(),\n",
    "    'expected': \"['B-GENE:chronic', 'I-GENE:renal', 'I-GENE:failure']\".lower(),\n",
    "    'response': \"['B-GENE:]\".lower()  # Empty response\n",
    "}\n",
    "\n",
    "y_true, y_pred = get_true_and_pred(data) # sample\n",
    "\n",
    "print(\"y_true:\", y_true)\n",
    "print(\"y_pred:\", y_pred)\n"
   ]
  },
  {
   "cell_type": "code",
   "execution_count": 50,
   "metadata": {},
   "outputs": [
    {
     "name": "stdout",
     "output_type": "stream",
     "text": [
      "Captured 1474, and missed 26\n"
     ]
    }
   ],
   "source": [
    "y_true=[]\n",
    "y_pred=[]\n",
    "missed=0\n",
    "for data in raw_list:\n",
    "    obj={\n",
    "        \"id\":data['id'],\n",
    "        \"input\":data['input'].strip(\"Do NER on this sentence.\").strip(\"Reply in key value pair as Tag and Entity.\").lower().strip(),\n",
    "        \"expected\":data['expected'].lower(),\n",
    "        \"response\":data['response'].lower()\n",
    "    }\n",
    "    if data[\"expected\"].strip()==\"\":\n",
    "        obj[\"expected\"]=\"['B-GENE:<>]\"\n",
    "    if data[\"response\"].strip()==\"\":\n",
    "        obj[\"response\"]=\"['I-GENE:<>]\"\n",
    "        \n",
    "    try:\n",
    "        t,p=get_true_and_pred(obj)\n",
    "        y_true.append(t)\n",
    "        y_pred.append(p)\n",
    "    except:\n",
    "        missed+=1\n",
    "        pass\n",
    "print(f\"Captured {len(raw_list)-missed}, and missed {missed}\")"
   ]
  },
  {
   "cell_type": "markdown",
   "metadata": {},
   "source": [
    "- Missed a few responses because they did not clear validation of responses."
   ]
  },
  {
   "cell_type": "markdown",
   "metadata": {},
   "source": [
    "### Final part: \n",
    "- Printing the report"
   ]
  },
  {
   "cell_type": "code",
   "execution_count": 51,
   "metadata": {},
   "outputs": [
    {
     "name": "stdout",
     "output_type": "stream",
     "text": [
      "BLoom3b on BC2GM GENE Dataset 5epoch:\n",
      "\n",
      "Overall Accuracy Score : 0.84 %\n",
      "       Precision Score : 0.52 %\n",
      "          Recall Score : 0.24 %\n",
      "              F1 Score : 0.33 % \n",
      "\n",
      "              precision    recall  f1-score   support\n",
      "\n",
      "      B_GENE       0.60      0.40      0.48      2280\n",
      "      E_GENE       0.57      0.27      0.37      2037\n",
      "      I_GENE       0.21      0.10      0.13      1351\n",
      "      S_GENE       0.61      0.07      0.13      1215\n",
      "\n",
      "   micro avg       0.52      0.24      0.33      6883\n",
      "   macro avg       0.50      0.21      0.28      6883\n",
      "weighted avg       0.52      0.24      0.32      6883\n",
      "\n",
      "----------------------------------------------------------------------------------------------------\n",
      "Sample object:\n",
      " {\n",
      "  \"id\": 1499,\n",
      "  \"input\": \"deletion analyses of the construct revealed that the transcription of boxf1 gene is regulated by box dna , preferentially in undifferentiated ec cells versus differentiated cells\",\n",
      "  \"expected\": \"['b-gene:boxf1', 'e-gene:gene']\",\n",
      "  \"response\": \"['b-gene:boxf1', 'e-gene:gene']\"\n",
      "}\n"
     ]
    }
   ],
   "source": [
    "from seqeval.metrics import accuracy_score, precision_score, recall_score\n",
    "from seqeval.metrics import classification_report\n",
    "from seqeval.metrics import f1_score\n",
    "\n",
    "print(\"BLoom3b on BC2GM GENE Dataset 5epoch:\\n\")\n",
    "print(f\"Overall Accuracy Score : {round(accuracy_score(y_true, y_pred),2)} %\")\n",
    "print(f\"       Precision Score : {round(precision_score(y_true, y_pred),2)} %\")\n",
    "print(f\"          Recall Score : {round(recall_score(y_true, y_pred),2)} %\")\n",
    "print(f\"              F1 Score : {round(f1_score(y_true, y_pred),2)} %\",'\\n')\n",
    "print(classification_report(y_true, y_pred))\n",
    "\n",
    "print(f\"{'-'*100}\\nSample object:\\n {json.dumps(obj,indent=2)}\")"
   ]
  },
  {
   "cell_type": "code",
   "execution_count": 52,
   "metadata": {},
   "outputs": [],
   "source": [
    "# y_true: ['O', 'O', 'O', 'O', 'O', 'O', 'O', 'O', 'O', 'B-B_GENE', 'I-I_GENE', 'I-I_GENE', 'O', 'O', 'O', 'O']\n",
    "# y_pred: ['O', 'O', 'O', 'O', 'O', 'O', 'O', 'O', 'O', 'O', 'O', 'O', 'O', 'O', 'O', 'O']\n",
    "# Captured 1474, and missed 26\n",
    "# BLoom3b on BioNLP11D Species Dataset 5epoch:\n",
    "\n",
    "# Overall Accuracy Score : 0.84 %\n",
    "#        Precision Score : 0.52 %\n",
    "#           Recall Score : 0.24 %\n",
    "#               F1 Score : 0.33 % \n",
    "\n",
    "#               precision    recall  f1-score   support\n",
    "\n",
    "#       B_GENE       0.60      0.38      0.46      2272\n",
    "#       E_GENE       0.58      0.27      0.37      2037\n",
    "#       I_GENE       0.22      0.10      0.14      1344\n",
    "#       S_GENE       0.63      0.07      0.12      1214\n",
    "\n",
    "#    micro avg       0.52      0.24      0.33      6867\n",
    "#    macro avg       0.51      0.20      0.27      6867\n",
    "# weighted avg       0.52      0.24      0.31      6867"
   ]
  },
  {
   "cell_type": "code",
   "execution_count": null,
   "metadata": {},
   "outputs": [],
   "source": []
  },
  {
   "cell_type": "code",
   "execution_count": null,
   "metadata": {},
   "outputs": [],
   "source": []
  }
 ],
 "metadata": {
  "kernelspec": {
   "display_name": "work_env_trade",
   "language": "python",
   "name": "python3"
  },
  "language_info": {
   "codemirror_mode": {
    "name": "ipython",
    "version": 3
   },
   "file_extension": ".py",
   "mimetype": "text/x-python",
   "name": "python",
   "nbconvert_exporter": "python",
   "pygments_lexer": "ipython3",
   "version": "3.10.6"
  }
 },
 "nbformat": 4,
 "nbformat_minor": 2
}
