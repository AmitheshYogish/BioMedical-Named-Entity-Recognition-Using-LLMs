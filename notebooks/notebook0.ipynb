{
 "cells": [
  {
   "cell_type": "markdown",
   "metadata": {},
   "source": [
    "We can convert data from its tsv from to actual usable files that we can directly feed our pipelines."
   ]
  },
  {
   "cell_type": "markdown",
   "metadata": {},
   "source": [
    "! Always provide tsv file as input for the repo https://github.com/cambridgeltl/MTL-Bioinformatics-2016/tree/master/data"
   ]
  },
  {
   "cell_type": "code",
   "execution_count": 1,
   "metadata": {},
   "outputs": [],
   "source": [
    "import json"
   ]
  },
  {
   "cell_type": "code",
   "execution_count": null,
   "metadata": {},
   "outputs": [],
   "source": [
    "dataset = []\n",
    "\n",
    "# Open the file and read line by line\n",
    "# give a path of your locally saved tsv file validation data\n",
    "with open(r\"G:\\GitClone\\BioNER_Project\\Gen2FT\\BC2GM\\devel.tsv\", \"r\", encoding=\"utf-8\") as file:\n",
    "    current_sentence = []\n",
    "    for line in file:\n",
    "        line = line.strip()\n",
    "        if line:  # Check if the line is not empty\n",
    "            \n",
    "            token, tag = line.split('\\t')\n",
    "            \n",
    "            current_sentence.append(f\"{token}\\t{tag}\")\n",
    "        else:  # End of sentence\n",
    "            # current_sentence.append('.')  # Add period to denote end of sentence\n",
    "            dataset.extend(current_sentence)\n",
    "            current_sentence = []\n",
    "\n",
    "print(\"First file length\",len(dataset))\n",
    "# since train dataset was not sufficient i m merging previous dataset into it \n",
    "# give a path of your locally saved tsv file test data\n",
    "dataset2=dataset\n",
    "with open(r\"G:\\GitClone\\BioNER_Project\\Gen2FT\\new _dataset\\bc2gm gene\\test.tsv\", \"r\", encoding=\"utf-8\") as file:\n",
    "    current_sentence = []\n",
    "    for line in file:\n",
    "        line = line.strip()\n",
    "        if line:  # Check if the line is not empty\n",
    "            \n",
    "            token, tag = line.split('\\t')\n",
    "            \n",
    "            current_sentence.append(f\"{token}\\t{tag}\")\n",
    "        else:  # End of sentence\n",
    "            # current_sentence.append('.')  # Add period to denote end of sentence\n",
    "            dataset.extend(current_sentence)\n",
    "            current_sentence = []\n",
    "dataset.extend(dataset2)\n",
    "\n",
    "print(\"Second file length\",len(dataset))\n",
    "# since train dataset was not sufficient i m merging previous dataset into it.\n",
    "# give a path of your locally saved tsv file train data\n",
    "dataset2=dataset\n",
    "with open(r\"G:\\GitClone\\BioNER_Project\\Gen2FT\\new _dataset\\bc2gm gene\\devel.tsv\", \"r\", encoding=\"utf-8\") as file:\n",
    "    current_sentence = []\n",
    "    for line in file:\n",
    "        line = line.strip()\n",
    "        if line:  # Check if the line is not empty\n",
    "            \n",
    "            token, tag = line.split('\\t')\n",
    "            \n",
    "            current_sentence.append(f\"{token}\\t{tag}\")\n",
    "        else:  # End of sentence\n",
    "            # current_sentence.append('.')  # Add period to denote end of sentence\n",
    "            dataset.extend(current_sentence)\n",
    "            current_sentence = []\n",
    "dataset.extend(dataset2)\n",
    "print(\"Third file length\",len(dataset))\n"
   ]
  },
  {
   "cell_type": "markdown",
   "metadata": {},
   "source": [
    "Merging will not cause any problem even after merging I m going to split them into 80 20 ratio for train and test."
   ]
  },
  {
   "cell_type": "code",
   "execution_count": null,
   "metadata": {},
   "outputs": [],
   "source": [
    "\n",
    "#----------------------------------------------------Processing starts here\n",
    "processed=[]\n",
    "\n",
    "sen=[]\n",
    "tag=[]\n",
    "for item in dataset:\n",
    "    if \".\" not in item:\n",
    "        sen.append(item.split(\"\\t\")[0])\n",
    "        tag.append(item.split(\"\\t\")[-1])\n",
    "    else: \n",
    "        processed.append({\"sentence\":\" \".join(sen),\"tokens\":sen,\"tags\":tag})\n",
    "        sen=[]\n",
    "        tag=[]\n",
    "\n",
    "final=[p for p in processed if \"B-GENE\" in p['tags'] or \"I-GENE\" in p['tags']]\n",
    "final2=[p for p in final if len(p['tokens'])<130] # token size set to 130 max\n",
    "len(final2)\n",
    "import pandas as pd\n",
    "rawdf=pd.DataFrame(final2)\n",
    "import re\n",
    "\n",
    "# Define a function to generate ner_tags\n",
    "def generate_ner_tags(tokens, tags):\n",
    "    ner_tags = []\n",
    "    for token, tag in zip(tokens, tags):\n",
    "        if tag != 'O':\n",
    "            # Check if the token is non-alphanumeric and single letter\n",
    "            if not (token.isalnum() and len(token) > 1):\n",
    "                continue\n",
    "            ner_tags.append(f\"{tag}:{token}\")\n",
    "    return ner_tags\n",
    "\n",
    "# Convert DataFrame to the desired format\n",
    "formatted_data = []\n",
    "for idx, row in rawdf.iterrows():\n",
    "    tokens = row['tokens']\n",
    "    sentence = row['sentence']\n",
    "    tags = row['tags']\n",
    "    ner_tags = generate_ner_tags(tokens, tags)\n",
    "    gemma_prompt=f'\\nInstruction:\\nDo NER on this sentence.\"{sentence}\"\\nReply in key value pair as Tag and Entity.'\n",
    "    llama_prompt=f'''<s>[INST]Do NER on this sentence.\\n\"{sentence}\"\\nReply in key value pair as Tag and Entity.[/INST]'''\n",
    "    response=f'\\n\\nResponse:\\n{ner_tags}'\n",
    "    formatted_data.append({\n",
    "        'tokens': tokens,\n",
    "        'text': sentence,\n",
    "        'ner_tags': ner_tags,\n",
    "        'tags': tags,\n",
    "        'gemma_prompt':gemma_prompt,\n",
    "        'llama_prompt':llama_prompt,\n",
    "        'response': response,\n",
    "        'llama_response': response+\"</s>\"\n",
    "    })\n",
    "\n",
    "train_split=int(len(formatted_data)*.80)\n",
    "val_split=int(len(formatted_data)*.20)\n",
    "\n"
   ]
  },
  {
   "cell_type": "code",
   "execution_count": null,
   "metadata": {},
   "outputs": [],
   "source": [
    "# Save the formatted data to a JSON file\n",
    "# provide a local path where to save the files created in json\n",
    "train_file = r\"G:\\GitClone\\BioNER_Project\\Gen2FT\\BC2GM\\bc2gm_gene_dataset_train.json\"\n",
    "with open(train_file, 'w') as f:\n",
    "   json.dump(formatted_data[:train_split], f, indent=4)\n",
    "\n",
    "# provide the path to save test file in json\n",
    "validation_file = r\"G:\\GitClone\\BioNER_Project\\Gen2FT\\BC2GM\\bc2gm_gene_dataset_validation.json\"\n",
    "with open(validation_file, 'w') as f:\n",
    "   json.dump(formatted_data[-val_split:], f, indent=4)\n",
    "\n",
    "\n",
    "print(\"Data saved to\", train_file, validation_file)"
   ]
  }
 ],
 "metadata": {
  "kernelspec": {
   "display_name": "work_env_trade",
   "language": "python",
   "name": "python3"
  },
  "language_info": {
   "codemirror_mode": {
    "name": "ipython",
    "version": 3
   },
   "file_extension": ".py",
   "mimetype": "text/x-python",
   "name": "python",
   "nbconvert_exporter": "python",
   "pygments_lexer": "ipython3",
   "version": "3.10.6"
  }
 },
 "nbformat": 4,
 "nbformat_minor": 2
}
